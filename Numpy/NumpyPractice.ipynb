{
 "cells": [
  {
   "cell_type": "code",
   "execution_count": 3,
   "metadata": {},
   "outputs": [],
   "source": [
    "import numpy as np\n",
    "import sys "
   ]
  },
  {
   "cell_type": "markdown",
   "metadata": {},
   "source": [
    "The Basics\n",
    "Source I m following : https://youtu.be/QUT1VHiLmmI?si=rnXvlGQ3NCKp-v6V"
   ]
  },
  {
   "cell_type": "code",
   "execution_count": 4,
   "metadata": {},
   "outputs": [
    {
     "name": "stdout",
     "output_type": "stream",
     "text": [
      "[1 2 3]\n",
      "Type int32 Size 4 bytes\n"
     ]
    }
   ],
   "source": [
    "a = np.array([1,2,3], dtype='int8')\n",
    "b = np.array([[1,0,2,0,3,0],[4,0,5,0,6,0]])\n",
    "\n",
    "# Print Matrix\n",
    "print(a)\n",
    "\n",
    "# Get Dimension\n",
    "print(\"Dimension\", a.ndim)\n",
    "\n",
    "#Get Type/Size\n",
    "print(\"Type\", b.dtype, \"Size\", b.itemsize, \"bytes\")\n"
   ]
  }
 ],
 "metadata": {
  "kernelspec": {
   "display_name": "base",
   "language": "python",
   "name": "python3"
  },
  "language_info": {
   "codemirror_mode": {
    "name": "ipython",
    "version": 3
   },
   "file_extension": ".py",
   "mimetype": "text/x-python",
   "name": "python",
   "nbconvert_exporter": "python",
   "pygments_lexer": "ipython3",
   "version": "3.12.4"
  }
 },
 "nbformat": 4,
 "nbformat_minor": 2
}
