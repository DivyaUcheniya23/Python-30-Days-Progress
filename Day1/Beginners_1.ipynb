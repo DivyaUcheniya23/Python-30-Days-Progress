{
 "cells": [
  {
   "cell_type": "markdown",
   "metadata": {},
   "source": [
    "I m Divya Ucheniya Following Roadmap for Python Developer (https://roadmap.sh/python).\n",
    "For this Learning I m following this Youtube Channel- https://youtu.be/kqtD5dpn9C8?si=pvD2cTsFhL7Yilpo .\n",
    "**Topics**:\n",
    "* Variables\n",
    "* Receiving Input\n",
    "* Type Conversion\n",
    "* Strings\n",
    "* Arthmetic Operators\n",
    "* Operator Precedence\n",
    "* Camparision Operators\n",
    "* Logical Operator"
   ]
  },
  {
   "cell_type": "code",
   "execution_count": 1,
   "metadata": {},
   "outputs": [
    {
     "name": "stdout",
     "output_type": "stream",
     "text": [
      "Hello World\n"
     ]
    }
   ],
   "source": [
    "# first Program\n",
    "print(\"Hello World\")"
   ]
  },
  {
   "cell_type": "markdown",
   "metadata": {},
   "source": [
    "**Variables** :\n",
    "Variables are containers for storing data values.\n",
    "* Storing Data Temperory in your Computer Memory\n",
    "* Python is case senitive language- upper and lower case alphabate is different. Variable names are case-sensitive."
   ]
  },
  {
   "cell_type": "code",
   "execution_count": 3,
   "metadata": {},
   "outputs": [
    {
     "name": "stdout",
     "output_type": "stream",
     "text": [
      "30\n"
     ]
    }
   ],
   "source": [
    "age = 20\n",
    "age = 30 #program get executed from top to bottom\n",
    "print(age) # if we have run can't write in quotation marks if do so its mean they are string"
   ]
  },
  {
   "cell_type": "code",
   "execution_count": null,
   "metadata": {},
   "outputs": [],
   "source": [
    "price= 19.95 # Float\n",
    "first_name = \"Divya\"\n",
    "is_online = False # Boolean, False with Capital F is special Keyword in python"
   ]
  },
  {
   "cell_type": "markdown",
   "metadata": {},
   "source": [
    "**Exercise**: \n",
    "* We check in a Patient named John Smith.\n",
    "* He is 20 Year Old.\n",
    "* He is a new Patient\n",
    "* Declare varible to store these values.\n"
   ]
  },
  {
   "cell_type": "code",
   "execution_count": null,
   "metadata": {},
   "outputs": [],
   "source": [
    "name = \"John Smith\"\n",
    "age = 20\n",
    "new_patient = True"
   ]
  },
  {
   "cell_type": "markdown",
   "metadata": {},
   "source": [
    "**Receiving Input**: use for input in terminal/output."
   ]
  },
  {
   "cell_type": "code",
   "execution_count": 3,
   "metadata": {},
   "outputs": [
    {
     "name": "stdout",
     "output_type": "stream",
     "text": [
      "Hello takei\n"
     ]
    }
   ],
   "source": [
    "name = input(\"What is your name?\")\n",
    "print(\"Hello \" + name) #concatinating with other string."
   ]
  },
  {
   "cell_type": "markdown",
   "metadata": {},
   "source": [
    "**Type Conversion**: When we have to convert one type to other.\n",
    "There are two types of type conversion in Python.\n",
    "\n",
    "* Implicit Conversion - automatic type conversion\n",
    "* Explicit Conversion - manual type conversion\n",
    "Link for Documentation- https://www.programiz.com/python-programming/type-conversion-and-casting\n"
   ]
  },
  {
   "cell_type": "code",
   "execution_count": 4,
   "metadata": {},
   "outputs": [
    {
     "ename": "TypeError",
     "evalue": "unsupported operand type(s) for -: 'int' and 'str'",
     "output_type": "error",
     "traceback": [
      "\u001b[1;31m---------------------------------------------------------------------------\u001b[0m",
      "\u001b[1;31mTypeError\u001b[0m                                 Traceback (most recent call last)",
      "Cell \u001b[1;32mIn[4], line 2\u001b[0m\n\u001b[0;32m      1\u001b[0m birth_year \u001b[38;5;241m=\u001b[39m \u001b[38;5;28minput\u001b[39m(\u001b[38;5;124m\"\u001b[39m\u001b[38;5;124mEnter your birth year: \u001b[39m\u001b[38;5;124m\"\u001b[39m)\n\u001b[1;32m----> 2\u001b[0m age \u001b[38;5;241m=\u001b[39m \u001b[38;5;241;43m2020\u001b[39;49m\u001b[43m \u001b[49m\u001b[38;5;241;43m-\u001b[39;49m\u001b[43m \u001b[49m\u001b[43mbirth_year\u001b[49m\n\u001b[0;32m      3\u001b[0m \u001b[38;5;28mprint\u001b[39m(age)\n",
      "\u001b[1;31mTypeError\u001b[0m: unsupported operand type(s) for -: 'int' and 'str'"
     ]
    }
   ],
   "source": [
    "birth_year = input(\"Enter your birth year: \") # if 2001 as input\n",
    "# here we \"2001\"(string) and 2000(number) is different\n",
    "age = 2020 - birth_year  # so 2020 - \"2001\"\n",
    "print(age) # so for solving of this problem we will replacestring into int function"
   ]
  },
  {
   "cell_type": "code",
   "execution_count": 5,
   "metadata": {},
   "outputs": [
    {
     "name": "stdout",
     "output_type": "stream",
     "text": [
      "19\n"
     ]
    }
   ],
   "source": [
    "birth_year = input(\"Enter your Birth Year: \") # input-2001\n",
    "age = 2020 - int(birth_year) #passing the string in int funtion\n",
    "print(age)"
   ]
  },
  {
   "cell_type": "markdown",
   "metadata": {},
   "source": [
    "**Built-in Data Types**: Variables can store data of different types, and different types can do different things.\n",
    "* Text Type:\tstr\n",
    "* Numeric Types:\tint, float, complex\n",
    "* Sequence Types:\tlist, tuple, range\n",
    "* Mapping Type:\tdict\n",
    "* Set Types:\tset, frozenset\n",
    "* Boolean Type:\tbool\n",
    "* Binary Types:\tbytes, bytearray, memoryview\n",
    "* None Type:\tNoneType"
   ]
  },
  {
   "cell_type": "code",
   "execution_count": null,
   "metadata": {},
   "outputs": [],
   "source": [
    "int() # 19\n",
    "float() # 19.85\n",
    "bool() # converting the value to boolean\n",
    "str() # converting the value to string"
   ]
  },
  {
   "cell_type": "code",
   "execution_count": 1,
   "metadata": {},
   "outputs": [
    {
     "name": "stdout",
     "output_type": "stream",
     "text": [
      "1040\n"
     ]
    }
   ],
   "source": [
    "first = input(\"First: \") # input 10, first= \"10\"\n",
    "second = input(\"Second: \") #input 20, second = \"20\"\n",
    "sum = first + second # Combining and concatinating the 2 string\n",
    "print(sum) #1020"
   ]
  },
  {
   "cell_type": "code",
   "execution_count": 2,
   "metadata": {},
   "outputs": [
    {
     "name": "stdout",
     "output_type": "stream",
     "text": [
      "76\n"
     ]
    }
   ],
   "source": [
    "first = input(\"First: \") # input 10 , \n",
    "second = input(\"Second: \") #input 20\n",
    "sum = int(first) + int(second) # we will pass int function\n",
    "print(sum) #if u store floating value in input then"
   ]
  },
  {
   "cell_type": "code",
   "execution_count": 8,
   "metadata": {},
   "outputs": [
    {
     "ename": "ValueError",
     "evalue": "invalid literal for int() with base 10: '10.1'",
     "output_type": "error",
     "traceback": [
      "\u001b[1;31m---------------------------------------------------------------------------\u001b[0m",
      "\u001b[1;31mValueError\u001b[0m                                Traceback (most recent call last)",
      "Cell \u001b[1;32mIn[8], line 3\u001b[0m\n\u001b[0;32m      1\u001b[0m first \u001b[38;5;241m=\u001b[39m \u001b[38;5;28minput\u001b[39m(\u001b[38;5;124m\"\u001b[39m\u001b[38;5;124mFirst: \u001b[39m\u001b[38;5;124m\"\u001b[39m) \u001b[38;5;66;03m# input 10.1 , \u001b[39;00m\n\u001b[0;32m      2\u001b[0m second \u001b[38;5;241m=\u001b[39m \u001b[38;5;28minput\u001b[39m(\u001b[38;5;124m\"\u001b[39m\u001b[38;5;124mSecond: \u001b[39m\u001b[38;5;124m\"\u001b[39m) \u001b[38;5;66;03m#input 20\u001b[39;00m\n\u001b[1;32m----> 3\u001b[0m \u001b[38;5;28msum\u001b[39m \u001b[38;5;241m=\u001b[39m \u001b[38;5;28;43mint\u001b[39;49m\u001b[43m(\u001b[49m\u001b[43mfirst\u001b[49m\u001b[43m)\u001b[49m \u001b[38;5;241m+\u001b[39m \u001b[38;5;28mint\u001b[39m(second) \u001b[38;5;66;03m# we will pass int function\u001b[39;00m\n\u001b[0;32m      4\u001b[0m \u001b[38;5;28mprint\u001b[39m(\u001b[38;5;28msum\u001b[39m) \u001b[38;5;66;03m#if u store dloating value in input then\u001b[39;00m\n",
      "\u001b[1;31mValueError\u001b[0m: invalid literal for int() with base 10: '10.1'"
     ]
    }
   ],
   "source": [
    "first = input(\"First: \") # input 10.1 , \n",
    "second = input(\"Second: \") #input 20\n",
    "sum = int(first) + int(second) # we will pass int function\n",
    "print(sum) #if u store dloating value in input then it will show invalid."
   ]
  },
  {
   "cell_type": "code",
   "execution_count": 11,
   "metadata": {},
   "outputs": [
    {
     "name": "stdout",
     "output_type": "stream",
     "text": [
      "31.099999999999998\n"
     ]
    }
   ],
   "source": [
    "first = input(\"First: \") # input 10.11 , \n",
    "second = input(\"Second: \") #input 20.99\n",
    "sum = float(first) + float(second) # we will pass int function\n",
    "print(sum) #if u store dloating value in input then"
   ]
  },
  {
   "cell_type": "code",
   "execution_count": 12,
   "metadata": {},
   "outputs": [
    {
     "ename": "TypeError",
     "evalue": "can only concatenate str (not \"int\") to str",
     "output_type": "error",
     "traceback": [
      "\u001b[1;31m---------------------------------------------------------------------------\u001b[0m",
      "\u001b[1;31mTypeError\u001b[0m                                 Traceback (most recent call last)",
      "Cell \u001b[1;32mIn[12], line 4\u001b[0m\n\u001b[0;32m      2\u001b[0m second \u001b[38;5;241m=\u001b[39m \u001b[38;5;28minput\u001b[39m(\u001b[38;5;124m\"\u001b[39m\u001b[38;5;124mSecond: \u001b[39m\u001b[38;5;124m\"\u001b[39m) \u001b[38;5;66;03m#input 20\u001b[39;00m\n\u001b[0;32m      3\u001b[0m \u001b[38;5;28msum\u001b[39m \u001b[38;5;241m=\u001b[39m \u001b[38;5;28mint\u001b[39m(first) \u001b[38;5;241m+\u001b[39m \u001b[38;5;28mint\u001b[39m(second) \u001b[38;5;66;03m# we will pass int function\u001b[39;00m\n\u001b[1;32m----> 4\u001b[0m \u001b[38;5;28mprint\u001b[39m(\u001b[38;5;124;43m\"\u001b[39;49m\u001b[38;5;124;43mSum: \u001b[39;49m\u001b[38;5;124;43m\"\u001b[39;49m\u001b[43m \u001b[49m\u001b[38;5;241;43m+\u001b[39;49m\u001b[43m \u001b[49m\u001b[38;5;28;43msum\u001b[39;49m) \u001b[38;5;66;03m#if u store dloating value in input then\u001b[39;00m\n",
      "\u001b[1;31mTypeError\u001b[0m: can only concatenate str (not \"int\") to str"
     ]
    }
   ],
   "source": [
    "first = input(\"First: \") # input 10 , \n",
    "second = input(\"Second: \") #input 20\n",
    "sum = int(first) + int(second) # we will pass int function\n",
    "print(\"Sum: \" + sum) # Python doesn't know how to evaluate \"Sum\" + 19.1"
   ]
  },
  {
   "cell_type": "code",
   "execution_count": 13,
   "metadata": {},
   "outputs": [
    {
     "name": "stdout",
     "output_type": "stream",
     "text": [
      "Sum: 30.1\n"
     ]
    }
   ],
   "source": [
    "first = input(\"First: \") # input 10 , \n",
    "second = input(\"Second: \") #input 20.1\n",
    "sum = float(first) + float(second) # we will pass float function\n",
    "print(\"Sum: \" + str(sum)) # So we will use str function"
   ]
  },
  {
   "cell_type": "markdown",
   "metadata": {},
   "source": [
    "Points To Remember in Type conversion:\n",
    "* We get TypeError, if we try to add str and int. For example, '12' + 23. Python is not able to use Implicit Conversion in such conditions.\n",
    "* Python has a solution for these types of situations which is known as Explicit Conversion.\n",
    "* Type Conversion is the conversion of an object from one data type to another data type.\n",
    "* Implicit Type Conversion is automatically performed by the Python interpreter.\n",
    "* Python avoids the loss of data in Implicit Type Conversion.\n",
    "Explicit Type Conversion is also called Type Casting, the data types of objects are converted using predefined functions by the user.\n",
    "* In Type Casting, loss of data may occur as we enforce the object to a specific data type. \n",
    "* https://www.programiz.com/python-programming/type-conversion-and-casting"
   ]
  },
  {
   "cell_type": "markdown",
   "metadata": {},
   "source": [
    "**Strings**:Strings in python are surrounded by either single quotation marks, or double quotation marks. Eg. 'hello' is the same as \"hello\".\n",
    "https://www.w3schools.com/python/python_strings.asp\n",
    "* String Methods- lower, Upper, find, replace('old','new'),\n",
    "* Important: count(), encode(), endswith(), find(), format(), index(), isdigit(), join(), lower(), strip(), partition(), replace(),split(), title(), upper()\n",
    "* https://www.w3schools.com/python/python_strings_methods.asp\n",
    "* keyword - in"
   ]
  },
  {
   "cell_type": "code",
   "execution_count": 14,
   "metadata": {},
   "outputs": [
    {
     "name": "stdout",
     "output_type": "stream",
     "text": [
      "PYTHON FOR BEGINNERS\n",
      "Python for Beginners\n"
     ]
    }
   ],
   "source": [
    "course = 'Python for Beginners' # string is object like in real world object eg. course storing a string object \n",
    "print(course.upper()) #print and input is general purpose function \n",
    "print(course)"
   ]
  },
  {
   "cell_type": "code",
   "execution_count": 15,
   "metadata": {},
   "outputs": [
    {
     "name": "stdout",
     "output_type": "stream",
     "text": [
      "1\n",
      "Python for Beginners\n"
     ]
    }
   ],
   "source": [
    "course = 'Python for Beginners' # string is object like in real world object eg. course storing a string object \n",
    "print(course.find('y')) #index of y is 1 , python is sensitive to upper and lower case  \n",
    "print(course)"
   ]
  },
  {
   "cell_type": "code",
   "execution_count": 17,
   "metadata": {},
   "outputs": [
    {
     "name": "stdout",
     "output_type": "stream",
     "text": [
      "11\n",
      "Python for Beginners\n"
     ]
    }
   ],
   "source": [
    "course = 'Python for Beginners' # string is object like in real world object eg. course storing a string object \n",
    "        # 01234567891011 index , space is also consider in index\n",
    "print(course.find(\"B\")) # it will return -1 coz we don't have Y in string\n",
    "print(course) "
   ]
  },
  {
   "cell_type": "code",
   "execution_count": 19,
   "metadata": {},
   "outputs": [
    {
     "name": "stdout",
     "output_type": "stream",
     "text": [
      "Python 4 Beginners\n"
     ]
    }
   ],
   "source": [
    "course = 'Python for Beginners'\n",
    "print(course.replace('for', '4'))"
   ]
  },
  {
   "cell_type": "code",
   "execution_count": 20,
   "metadata": {},
   "outputs": [
    {
     "name": "stdout",
     "output_type": "stream",
     "text": [
      "Python for Beginners\n"
     ]
    }
   ],
   "source": [
    "course = 'Python for Beginners'\n",
    "print(course.replace('X', '4')) # if we try to replace x with 4\n",
    "# we don't have X so it will print as it .\n"
   ]
  },
  {
   "cell_type": "code",
   "execution_count": 21,
   "metadata": {},
   "outputs": [
    {
     "name": "stdout",
     "output_type": "stream",
     "text": [
      "0\n"
     ]
    }
   ],
   "source": [
    "course = 'Python for Beginners'\n",
    "print(course.find('Python'))"
   ]
  },
  {
   "cell_type": "code",
   "execution_count": 22,
   "metadata": {},
   "outputs": [
    {
     "name": "stdout",
     "output_type": "stream",
     "text": [
      "True\n"
     ]
    }
   ],
   "source": [
    "course = 'Python for Beginners'\n",
    "print('Python' in course) #in kewword check is Python in course variable"
   ]
  },
  {
   "cell_type": "markdown",
   "metadata": {},
   "source": [
    "Python divides the operators in the following groups:\n",
    "* Arithmetic operators\n",
    "* Assignment operators\n",
    "* Comparison operators\n",
    "* Logical operators\n",
    "* Identity operators\n",
    "* Membership operators\n",
    "* Bitwise operators\n",
    "\n",
    "**Arithmetic operators**: Arithmetic operators are used with numeric values to perform common mathematical operations:\n",
    "Operator & Name\t:\n",
    "'+'\tAddition;\t\t\n",
    "'-'\tSubtraction;\t\n",
    "'*'\tMultiplication;\t\n",
    "/\tDivision;\n",
    "%\tModulus;\t\n",
    "**\tExponentiation;\t\n",
    "//\tFloor division\n"
   ]
  },
  {
   "cell_type": "code",
   "execution_count": 23,
   "metadata": {},
   "outputs": [
    {
     "name": "stdout",
     "output_type": "stream",
     "text": [
      "3.3333333333333335\n"
     ]
    }
   ],
   "source": [
    "print(10/3) # we get floating point no. , /Division"
   ]
  },
  {
   "cell_type": "code",
   "execution_count": 24,
   "metadata": {},
   "outputs": [
    {
     "name": "stdout",
     "output_type": "stream",
     "text": [
      "3\n"
     ]
    }
   ],
   "source": [
    "print(10//3) # we will get integer whole no.- //Floor Division"
   ]
  },
  {
   "cell_type": "code",
   "execution_count": 25,
   "metadata": {},
   "outputs": [
    {
     "name": "stdout",
     "output_type": "stream",
     "text": [
      "1\n"
     ]
    }
   ],
   "source": [
    "print(10%3) # Modulus operator- Return Remainder of Division 10 by 3"
   ]
  },
  {
   "cell_type": "code",
   "execution_count": 26,
   "metadata": {},
   "outputs": [
    {
     "name": "stdout",
     "output_type": "stream",
     "text": [
      "30\n"
     ]
    }
   ],
   "source": [
    "print(10*3) # Multiplication"
   ]
  },
  {
   "cell_type": "code",
   "execution_count": 27,
   "metadata": {},
   "outputs": [
    {
     "name": "stdout",
     "output_type": "stream",
     "text": [
      "1000\n"
     ]
    }
   ],
   "source": [
    "print(10**3) #Exponential operator 2 asterisks * mean power on base 10"
   ]
  },
  {
   "cell_type": "code",
   "execution_count": null,
   "metadata": {},
   "outputs": [],
   "source": [
    " # Augmented Assignment Operator\n",
    "x=10\n",
    "x=x+3\n",
    "x +=3\n",
    "a=10\n",
    "a += 2 #(add 2 to a)\n",
    "a -= 3 #(subtract 3 from a)\n",
    "a *= 4 #(multiply a by 4)\n",
    "a /= 5 #(divide a by 5)\n",
    "a %= 6 #(modulo a by 6)\n",
    "a **= 7 #(exponentiate a by 7)"
   ]
  },
  {
   "cell_type": "markdown",
   "metadata": {},
   "source": [
    "**Operator Precedence**: Determines the order in which operators are evaluated in expression.\n",
    "\n",
    "Operator\tDescription\tTry it\n",
    "'()'\tParentheses;\t\n",
    "'**'\tExponentiation;\t\n",
    "'+x  -x  ~x'\tUnary plus, unary minus, and bitwise NOT;\t\n",
    "'*  /  //  %\t' Multiplication, division, floor division, and modulus;\n",
    "'+  -'\tAddition and subtraction;\t\n",
    "'<<  >>'\tBitwise left and right shifts;\t\n",
    "'&'\tBitwise AND;\t\n",
    "'^'\tBitwise XOR\t;\n",
    "'|'\tBitwise OR\t;\n",
    "'==  !=  >  >=  <  <=  is  is not  in  not in '\tComparisons, identity, and membership operators\t;\n",
    "'not'\tLogical NOT\t;\n",
    "'and'\tAND\t;\n",
    ",or'\tOR"
   ]
  },
  {
   "cell_type": "code",
   "execution_count": 29,
   "metadata": {},
   "outputs": [
    {
     "name": "stdout",
     "output_type": "stream",
     "text": [
      "16\n"
     ]
    }
   ],
   "source": [
    "z= 10 + 3 * 2 # excatly like math but we can change it\n",
    "print(z)"
   ]
  },
  {
   "cell_type": "code",
   "execution_count": 30,
   "metadata": {},
   "outputs": [
    {
     "name": "stdout",
     "output_type": "stream",
     "text": [
      "26\n"
     ]
    }
   ],
   "source": [
    "x= (10+3)*2 # we can add parentheses\n",
    "print(x)"
   ]
  },
  {
   "cell_type": "markdown",
   "metadata": {},
   "source": [
    "**Comparison operators**: \n",
    "Comparison operators are used to compare two values:\n",
    "\n",
    "Operator & Name\t:\n",
    "'=='\tEqual ;\t\n",
    "'!='\tNot equal ;\n",
    "'>'\tGreater than ;\n",
    "'<'\tLess than; \t\n",
    "'>='\tGreater than or equal to;\n",
    "'<='\tLess than or equal to"
   ]
  },
  {
   "cell_type": "code",
   "execution_count": 31,
   "metadata": {},
   "outputs": [
    {
     "name": "stdout",
     "output_type": "stream",
     "text": [
      "True\n"
     ]
    }
   ],
   "source": [
    "x=3>2\n",
    "print(x)"
   ]
  },
  {
   "cell_type": "code",
   "execution_count": 32,
   "metadata": {},
   "outputs": [
    {
     "name": "stdout",
     "output_type": "stream",
     "text": [
      "True\n"
     ]
    }
   ],
   "source": [
    "x= 3>=2\n",
    "print(x)"
   ]
  },
  {
   "cell_type": "code",
   "execution_count": 33,
   "metadata": {},
   "outputs": [
    {
     "name": "stdout",
     "output_type": "stream",
     "text": [
      "False\n"
     ]
    }
   ],
   "source": [
    "x= 3==2 # Equality operator don't confuse with assignment operator =\n",
    "print(x) # after run 3 is not equal to 2"
   ]
  },
  {
   "cell_type": "code",
   "execution_count": 34,
   "metadata": {},
   "outputs": [
    {
     "name": "stdout",
     "output_type": "stream",
     "text": [
      "True\n"
     ]
    }
   ],
   "source": [
    "x= 3 != 2 # not equal to\n",
    "print (x) "
   ]
  },
  {
   "cell_type": "markdown",
   "metadata": {},
   "source": [
    "**Logical operator**: \n",
    "Logical operators are used to combine conditional statements:\n",
    "**Operator & Description:** \t\n",
    "'and' \tReturns True if both statements are true; \n",
    "'or'\tReturns True if one of the statements is true;\n",
    "'not'\tReverse the result, returns False if the result is true\n",
    "\n",
    "- **and** (both)\n",
    "- **or** (at least one)\n",
    "- **not** (inverses any value we give it)"
   ]
  },
  {
   "cell_type": "code",
   "execution_count": 35,
   "metadata": {},
   "outputs": [
    {
     "name": "stdout",
     "output_type": "stream",
     "text": [
      "True\n"
     ]
    }
   ],
   "source": [
    "price = 25\n",
    "print(price > 10 and price < 30)  # both condition should be true"
   ]
  },
  {
   "cell_type": "code",
   "execution_count": 36,
   "metadata": {},
   "outputs": [
    {
     "name": "stdout",
     "output_type": "stream",
     "text": [
      "True\n"
     ]
    }
   ],
   "source": [
    "price = 5\n",
    "print(price > 10 or price < 30) # only one condition can be true"
   ]
  },
  {
   "cell_type": "code",
   "execution_count": 37,
   "metadata": {},
   "outputs": [
    {
     "name": "stdout",
     "output_type": "stream",
     "text": [
      "False\n"
     ]
    }
   ],
   "source": [
    "price= 10\n",
    "print(not price > 5)"
   ]
  }
 ],
 "metadata": {
  "kernelspec": {
   "display_name": "base",
   "language": "python",
   "name": "python3"
  },
  "language_info": {
   "codemirror_mode": {
    "name": "ipython",
    "version": 3
   },
   "file_extension": ".py",
   "mimetype": "text/x-python",
   "name": "python",
   "nbconvert_exporter": "python",
   "pygments_lexer": "ipython3",
   "version": "3.12.4"
  }
 },
 "nbformat": 4,
 "nbformat_minor": 2
}
